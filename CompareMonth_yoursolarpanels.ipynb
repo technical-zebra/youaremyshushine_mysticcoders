{
 "cells": [
  {
   "cell_type": "code",
   "execution_count": 1,
   "id": "1a92be2c",
   "metadata": {},
   "outputs": [],
   "source": [
    "# by Terry Zhang in Mystic coders"
   ]
  },
  {
   "cell_type": "code",
   "execution_count": 2,
   "id": "de915f0e",
   "metadata": {},
   "outputs": [],
   "source": [
    "import pandas as pd\n",
    "import numpy as np\n",
    "import scipy.stats\n",
    "import seaborn as sns\n",
    "import matplotlib.pyplot as plt"
   ]
  },
  {
   "cell_type": "code",
   "execution_count": 3,
   "id": "14b01826",
   "metadata": {},
   "outputs": [],
   "source": [
    "month1 = pd.read_csv('compare_month_your_1.csv', low_memory=False)\n",
    "month2 = pd.read_csv('compare_month_your_2.csv', low_memory=False)\n",
    "pd.set_option('display.float_format', lambda x:'%f'%x)"
   ]
  },
  {
   "cell_type": "code",
   "execution_count": 4,
   "id": "654ed954",
   "metadata": {},
   "outputs": [],
   "source": [
    "month1['DY'] = pd.to_numeric(month1['DY'])\n",
    "month2['DY'] = pd.to_numeric(month2['DY'])\n",
    "month1['mean_kilowatt_per_hour'] = pd.to_numeric(month1['mean_kilowatt_per_hour'])\n",
    "month2['mean_kilowatt_per_hour'] = pd.to_numeric(month2['mean_kilowatt_per_hour'])"
   ]
  },
  {
   "cell_type": "code",
   "execution_count": 5,
   "id": "975b4200",
   "metadata": {},
   "outputs": [],
   "source": [
    "sub1 = month1[['DY', 'mean_kilowatt_per_hour']].replace(-999, np.nan)\n",
    "sub2 = month2[['DY', 'mean_kilowatt_per_hour']].replace(-999, np.nan)\n",
    "sub1 = sub1.dropna(subset=['mean_kilowatt_per_hour'])\n",
    "sub2 = sub2.dropna(subset=['mean_kilowatt_per_hour'])"
   ]
  },
  {
   "cell_type": "code",
   "execution_count": 6,
   "id": "9e9e5ae4",
   "metadata": {},
   "outputs": [],
   "source": [
    "sub2 = sub2.rename(columns={\"mean_kilowatt_per_hour\": \"mean_kilowatt_per_hour_2\"})\n",
    "sub1['kilowatt_per_day'] = (sub1['mean_kilowatt_per_hour']*24)\n",
    "sub2['kilowatt_per_day_2'] = (sub2['mean_kilowatt_per_hour_2']*24)"
   ]
  },
  {
   "cell_type": "code",
   "execution_count": 7,
   "id": "7663fec0",
   "metadata": {},
   "outputs": [],
   "source": [
    "sub3 = sub1.set_index('DY').join(sub2.set_index('DY'))"
   ]
  },
  {
   "cell_type": "code",
   "execution_count": 8,
   "id": "d9b12884",
   "metadata": {},
   "outputs": [
    {
     "data": {
      "text/plain": [
       "Text(0.5, 1.0, 'Line Plot for comparsion of your solar system output')"
      ]
     },
     "execution_count": 8,
     "metadata": {},
     "output_type": "execute_result"
    },
    {
     "data": {
      "image/png": "[encoded data removed]",
      "text/plain": [
       "<Figure size 432x288 with 1 Axes>"
      ]
     },
     "metadata": {
      "needs_background": "light"
     },
     "output_type": "display_data"
    }
   ],
   "source": [
    "sub4 = sub3[['kilowatt_per_day','kilowatt_per_day_2']]\n",
    "%matplotlib inline\n",
    "sns.lineplot(data=sub4)\n",
    "plt.xlabel('Date in the month')\n",
    "plt.ylabel('Your solar system output in kW-day')\n",
    "plt.title('Line Plot for comparsion of your solar system output')"
   ]
  },
  {
   "cell_type": "code",
   "execution_count": 9,
   "id": "197aa6bf",
   "metadata": {},
   "outputs": [],
   "source": [
    "monthly_mean = sub4['kilowatt_per_day'].mean()\n",
    "monthly_max = sub4['kilowatt_per_day'].max()\n",
    "monthly_min = sub4['kilowatt_per_day'].min()\n",
    "monthly_total = sub4['kilowatt_per_day'].sum()\n",
    "monthly_mean_2 = sub4['kilowatt_per_day_2'].mean()\n",
    "monthly_max_2 = sub4['kilowatt_per_day_2'].max()\n",
    "monthly_min_2 = sub4['kilowatt_per_day_2'].min()\n",
    "monthly_total_2 = sub4['kilowatt_per_day_2'].sum()"
   ]
  },
  {
   "cell_type": "code",
   "execution_count": 10,
   "id": "72242e66",
   "metadata": {},
   "outputs": [],
   "source": [
    "month1_name = month1.loc[1, 'MO']\n",
    "month2_name = month2.loc[1, 'MO']"
   ]
  },
  {
   "cell_type": "code",
   "execution_count": 11,
   "id": "253597d2",
   "metadata": {},
   "outputs": [
    {
     "name": "stdout",
     "output_type": "stream",
     "text": [
      "For month 9:\n",
      "The mean of your solar system output in the month is 6.00 kW-day\n",
      "The maxmium of your solar system output in the month is 6.00 kW-/day\n",
      "The minimum of your solar system output in the month is 6.00 kW-day\n",
      "The total of your solar system output in the month is 180.00 kW-day\n"
     ]
    }
   ],
   "source": [
    "print(f'For month {month1_name}:')\n",
    "print(f'The mean of your solar system output in the month is {monthly_mean:.2f} kW-day')\n",
    "print(f'The maxmium of your solar system output in the month is {monthly_max:.2f} kW-/day')\n",
    "print(f'The minimum of your solar system output in the month is {monthly_min:.2f} kW-day')\n",
    "print(f'The total of your solar system output in the month is {monthly_total:.2f} kW-day')"
   ]
  },
  {
   "cell_type": "code",
   "execution_count": 12,
   "id": "2d58fa8b",
   "metadata": {},
   "outputs": [
    {
     "name": "stdout",
     "output_type": "stream",
     "text": [
      "For month 10:\n",
      "The mean of your solar system output in the month is 17.71 kW-day\n",
      "The maxmium of your solar system output in the month is 78.96 kW-/day\n",
      "The minimum of your solar system output in the month is 0.72 kW-day\n",
      "The total of your solar system output in the month is 531.36 kW-day\n"
     ]
    }
   ],
   "source": [
    "print(f'For month {month2_name}:')\n",
    "print(f'The mean of your solar system output in the month is {monthly_mean_2:.2f} kW-day')\n",
    "print(f'The maxmium of your solar system output in the month is {monthly_max_2:.2f} kW-/day')\n",
    "print(f'The minimum of your solar system output in the month is {monthly_min_2:.2f} kW-day')\n",
    "print(f'The total of your solar system output in the month is {monthly_total_2:.2f} kW-day')"
   ]
  }
 ],
 "metadata": {
  "kernelspec": {
   "display_name": "Python 3",
   "language": "python",
   "name": "python3"
  },
  "language_info": {
   "codemirror_mode": {
    "name": "ipython",
    "version": 3
   },
   "file_extension": ".py",
   "mimetype": "text/x-python",
   "name": "python",
   "nbconvert_exporter": "python",
   "pygments_lexer": "ipython3",
   "version": "3.8.8"
  }
 },
 "nbformat": 4,
 "nbformat_minor": 5
}
